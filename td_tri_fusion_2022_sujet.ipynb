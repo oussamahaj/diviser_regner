{
 "cells": [
  {
   "cell_type": "markdown",
   "metadata": {
    "id": "Igt9-hR-l1pM"
   },
   "source": [
    "<p style=\"padding:5px;\n",
    "          background-color:#afa;\n",
    "          border:1px solid #bbffbb;\n",
    "          border-radius:20px;\n",
    "          font-weight:bold;\n",
    "          font-size:2em;\n",
    "          padding:15px;\n",
    "          text-align:center;\">\n",
    "    ➗ Diviser Pour Régner : le tri fusion 🤴\n",
    "\n",
    "</p><br> "
   ]
  },
  {
   "cell_type": "markdown",
   "metadata": {
    "id": "F4Po8wMPvwE2"
   },
   "source": [
    "😊 Nous allons maintenant implémenter une méthode de tri basée sur \"diviser pour régner\" : le tri fusion."
   ]
  },
  {
   "cell_type": "markdown",
   "metadata": {
    "id": "NctWS_V_wXnk"
   },
   "source": [
    "Observons  cette animation : \n",
    "\n",
    "[Illustration animée (source wikipédia)](https://upload.wikimedia.org/wikipedia/commons/c/cc/Merge-sort-example-300px.gif)  \n",
    "\n",
    "\n",
    "<span style=\"display:block;\n",
    "             margin:10px;\n",
    "             padding:5px;\n",
    "             background-color:#afa;\n",
    "             border:1px solid #bbffbb;\n",
    "             border-radius:20px;\n",
    "             font-weight:bold;\n",
    "             font-size:1.2em;\n",
    "             text-align:center;\">I. Pseudo-code du tri fusion :   </span>\n",
    "\n",
    "Nous disposons d'un tableau (type ``list`` de Python) de taille ``n``.  \n",
    "Son premier rang est donc ``0`` et son dernier rang ``n-1``.  \n",
    "On notera ``t[a -> b]`` la liste constituée des éléments de rang compris entre ``a`` et ``b`` (compris) de la liste ``t``.  \n",
    "La fonction ``triFusion`` fait appel à la fonction ``fusion`` qui permet de fusionner deux listes triées en une liste triée.  \n",
    "\n",
    "\n",
    "<pre>\n",
    "\n",
    "fonction tri_fusion(t)\n",
    "      \"\"\"\n",
    "      entrée ː un tableau t\n",
    "      sortie ː renvoie un autre tableau qui correspond au tableau t trié\n",
    "      \"\"\"\n",
    "      n = longueur(t)\n",
    "      si n ≤ 1\n",
    "              renvoyer t\n",
    "      sinon \n",
    "              m = n//2\n",
    "              renvoyer fusion(tri_fusion(t[0 -> m-1]), tri_fusion(t[m -> n-1])) \n",
    "              \n",
    " </pre>\n",
    "  \n",
    "La terminaison est justifiée par la décroissance stricte de ``n`` à chaque appel récursif.  \n"
   ]
  },
  {
   "cell_type": "markdown",
   "metadata": {},
   "source": [
    "<span style=\"display:block;\n",
    "             margin:10px;\n",
    "             padding:5px;\n",
    "             background-color:#afa;\n",
    "             border:1px solid #bbffbb;\n",
    "             border-radius:20px;\n",
    "             font-weight:bold;\n",
    "             font-size:1.2em;\n",
    "             text-align:center;\">II. La Fonction fusion   </span>"
   ]
  },
  {
   "cell_type": "markdown",
   "metadata": {},
   "source": [
    "### 💻 A vous de jouer 1 :"
   ]
  },
  {
   "cell_type": "markdown",
   "metadata": {},
   "source": [
    "Compléter ci-dessous"
   ]
  },
  {
   "cell_type": "code",
   "execution_count": null,
   "metadata": {
    "id": "gVNNEzKMgKl-"
   },
   "outputs": [],
   "source": [
    "def fusion(l1, l2):\n",
    "    \"\"\"\n",
    "    Précondition : l1 et l2 sont deux listes triées\n",
    "    Postcondition : la fonction renvoie une liste triée constituée de la fusion \n",
    "    de l1 et l2\n",
    "    Exemple :\n",
    "    fusion([2, 3, 5, 8],[1, 4]) renvoie [1, 2, 3, 5, 8]\n",
    "    \"\"\"\n",
    "    n1 = len(l1)\n",
    "    n2 = len(l2)\n",
    "    lst = [] # initialisation de la fusion de l1 et l2 \n",
    "    i1 = 0 # indice qui sert à parcourir l1\n",
    "    i2 = 0 # indice qui sert à parcourir l2\n",
    "    while i1 < n1 and i2 < n2 :\n",
    "        if l1[i1] < l2[i2]:\n",
    "            lst.append(l1[i1])\n",
    "            i1 = i1 + 1\n",
    "        else :\n",
    "            lst.append(l2[i2])\n",
    "            i2 = i2 + 1\n",
    "    if i1 == n1:\n",
    "        # Compléter\n",
    "    else :\n",
    "        # Compléter \n",
    "    return lst\n",
    "\n",
    "fusion([2, 3, 5, 8],[1, 4])   "
   ]
  },
  {
   "cell_type": "code",
   "execution_count": 2,
   "metadata": {
    "colab": {
     "base_uri": "https://localhost:8080/"
    },
    "id": "hNciXVJPuPXP",
    "outputId": "799db2d5-65fb-42ef-b2f9-4fb4d25760e4"
   },
   "outputs": [
    {
     "data": {
      "text/plain": [
       "[1, 2, 3, 4, 5, 8]"
      ]
     },
     "execution_count": 2,
     "metadata": {},
     "output_type": "execute_result"
    }
   ],
   "source": [
    "fusion([1, 4],[2, 3, 5, 8]) "
   ]
  },
  {
   "cell_type": "markdown",
   "metadata": {
    "id": "Uh25wiEfkSrs"
   },
   "source": [
    "<span style=\"display:block;\n",
    "             margin:10px;\n",
    "             padding:5px;\n",
    "             background-color:#afa;\n",
    "             border:1px solid #bbffbb;\n",
    "             border-radius:20px;\n",
    "             font-weight:bold;\n",
    "             font-size:1.2em;\n",
    "             text-align:center;\">III. Code de la fonction tri_fusion   </span>"
   ]
  },
  {
   "cell_type": "markdown",
   "metadata": {
    "id": "FXCZ9w77kkH4"
   },
   "source": [
    "### 💻 A vous de jouer 2 :\n",
    "En vous aidant du pseudo-code du paragraphe I., compléter ci-dessous :\n"
   ]
  },
  {
   "cell_type": "code",
   "execution_count": null,
   "metadata": {
    "id": "Qf5fC1SHk_bT"
   },
   "outputs": [],
   "source": [
    "def tri_fusion(lst):\n",
    "    \"\"\"\n",
    "    Précondition : lst est une liste\n",
    "    Postcondition : la fonction renvoie une liste qui est la liste triée\n",
    "\n",
    "    \"\"\"\n",
    "    pass"
   ]
  },
  {
   "cell_type": "markdown",
   "metadata": {
    "id": "Wcn9EB6RLdrT"
   },
   "source": [
    "\n",
    "Mireille COILHAC  \n",
    "<a rel=\"license\" href=\"http://creativecommons.org/licenses/by-nc-sa/4.0/\"><img alt=\"Creative Commons License\" style=\"border-width:0\" src=\"https://i.creativecommons.org/l/by-nc-sa/4.0/88x31.png\" /></a><br />This work is licensed under a <a rel=\"license\" href=\"http://creativecommons.org/licenses/by-nc-sa/4.0/\">Creative Commons Attribution-NonCommercial-ShareAlike 4.0 International License</a>.\n",
    "\n",
    "\n"
   ]
  }
 ],
 "metadata": {
  "colab": {
   "collapsed_sections": [],
   "name": "tri_fusion_2022_corrige.ipynb",
   "provenance": []
  },
  "kernelspec": {
   "display_name": "Python 3",
   "language": "python",
   "name": "python3"
  },
  "language_info": {
   "codemirror_mode": {
    "name": "ipython",
    "version": 3
   },
   "file_extension": ".py",
   "mimetype": "text/x-python",
   "name": "python",
   "nbconvert_exporter": "python",
   "pygments_lexer": "ipython3",
   "version": "3.7.6"
  }
 },
 "nbformat": 4,
 "nbformat_minor": 1
}
