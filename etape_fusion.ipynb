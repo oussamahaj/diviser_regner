{
 "cells": [
  {
   "cell_type": "markdown",
   "metadata": {},
   "source": [
    "<p style=\"padding:5px;\n",
    "          background-color:#afa;\n",
    "          border:1px solid #bbffbb;\n",
    "          border-radius:20px;\n",
    "          font-weight:bold;\n",
    "          font-size:2em;\n",
    "          padding:15px;\n",
    "          text-align:center;\">\n",
    "    Fusionner deux listes triées\n",
    "\n",
    "</p><br> \n"
   ]
  },
  {
   "cell_type": "markdown",
   "metadata": {},
   "source": [
    "## 🤔 Comment fusionner deux listes triées pour obtenir une liste triée ?\n",
    "Nous donnons ``l1 = [2, 3, 5, 8]`` et ``l2 = [1, 4]``  "
   ]
  },
  {
   "cell_type": "markdown",
   "metadata": {},
   "source": [
    "### ✏️ A vos crayons 1 :"
   ]
  },
  {
   "cell_type": "markdown",
   "metadata": {},
   "source": [
    "Voici un script Python :\n"
   ]
  },
  {
   "cell_type": "code",
   "execution_count": null,
   "metadata": {},
   "outputs": [],
   "source": [
    "def mystere(l1, l2):\n",
    "    n1 = len(l1)\n",
    "    n2 = len(l2)\n",
    "    lst = [] # initialisation de la fusion de l1 et l2 \n",
    "    i1 = 0 # indice qui sert à parcourir l1\n",
    "    i2 = 0 # indice qui sert à parcourir l2\n",
    "    while i1 < n1 and i2 < n2 :\n",
    "        if l1[i1] < l2[i2]:\n",
    "            lst.append(l1[i1])\n",
    "            i1 = i1 + 1\n",
    "        else :\n",
    "            lst.append(l2[i2])\n",
    "            i2 = i2 + 1\n",
    "    return lst\n",
    "\n",
    "mystere([2, 3, 5, 8], [1, 4])      \n"
   ]
  },
  {
   "cell_type": "markdown",
   "metadata": {},
   "source": [
    "Recopier sur votre cahier, et le compléter, le tableau suivant, qui décrit le déroulement de l'exécution de ``mystere([2, 3, 5, 8],[1, 4])``  \n",
    "- Il y a une ligne par tour de boucle.  \n",
    "- Pour vous aider, nous avons rajouté une colonne pour ``l1`` et une pour ``l2``. Vous pourrez entourer à chaque étape, dans une de ces colonnes, l'élément qui sera ajouté à ``lst``  (en gras ici)"
   ]
  },
  {
   "cell_type": "markdown",
   "metadata": {},
   "source": [
    "|``i1`` |``i2`` | ``l1   ``            | ``l2 ``       | ``lst ``             |\n",
    "|:--    |:--    |:--                   |:--            |:--                   |\n",
    "|0      |0      | [2, 3, 5, 8]         | [**1**, 4]    | [1]                  |\n",
    "|0      |1      | [**2**, 3, 5, 8]     | [**1**, 4]    | [1, 2]               |\n",
    "|...    |...    | ...                  | ...           | ...                  |\n",
    "..."
   ]
  },
  {
   "cell_type": "markdown",
   "metadata": {},
   "source": [
    "<details>\n",
    "<summary style=\"border:1pt solid slateblue; border-radius:5pt; width:15%; color:slateblue; padding:3px; background-color: lightcyan\"> Solution </summary>  \n",
    "    \n",
    "<div style=\"border:1pt solid slateblue; border-radius:5pt; color:slateblue; padding:3px; background-color: lightcyan\"> \n",
    "\n",
    "|``i1`` |``i2`` | ``l1   ``            | ``l2 ``       | ``lst ``             |\n",
    "|:--    |:--    |:--                   |:--            |:--                   |\n",
    "|0      |0      | [2, 3, 5, 8]         | [**1**, 4]    | [1]                  |\n",
    "|0      |1      | [**2**, 3, 5, 8]     | [**1**, 4]    | [1, 2]               |\n",
    "|1      |1      | [**2**, **3**, 5, 8]     | [**1**, 4]    | [1, 2, 3]         |\n",
    "|2      |1      | [**2**, **3**, 5, 8]     | [**1**, **4**]    | [1, 2, 3, 4]  |\n",
    "|2      |2      |        |  |\n",
    "\n",
    "\n",
    "</div>\n",
    "</details>"
   ]
  },
  {
   "cell_type": "markdown",
   "metadata": {},
   "source": [
    "😥 Nous observons que les deux listes n'ont pas été complètement fusionnées, car nous avons \"épuisé\" tous les éléments de ``l2``.  \n",
    "👉 Par contre, il est certain que les éléments restants de ``l1`` qui n'ont pas été fusionnés, sont triés, et plus grands que tous les éléments déjà présents dans ``lst``.  \n",
    "🤗 Pour obtenir la liste complètement fusionnée, il suffit donc d'exécuter :  \n",
    "``lst + [5, 8]`` c'est à dire ``lst + l1[i1:]``"
   ]
  },
  {
   "cell_type": "markdown",
   "metadata": {},
   "source": [
    "### 💻 A vous de jouer 1 :\n",
    "Compléter le script suivant :"
   ]
  },
  {
   "cell_type": "code",
   "execution_count": null,
   "metadata": {},
   "outputs": [],
   "source": [
    "def fusion(l1, l2):\n",
    "    \"\"\"\n",
    "    Précondition : l1 et l2 sont deux listes triées\n",
    "    Postcondition : la fonction renvoie une liste triée constituée de la fusion \n",
    "    de l1 et l2\n",
    "    Exemple :\n",
    "    fusion([2, 3, 5, 8], [1, 4]) renvoie [1, 2, 3, 5, 8]\n",
    "    \"\"\"\n",
    "    n1 = len(l1)\n",
    "    n2 = len(l2)\n",
    "    lst = [] # initialisation de la fusion de l1 et l2 \n",
    "    i1 = 0 # indice qui sert à parcourir l1\n",
    "    i2 = 0 # indice qui sert à parcourir l2\n",
    "    while i1 < n1 and i2 < n2 :\n",
    "        if l1[i1] < l2[i2]:\n",
    "            lst.append(l1[i1])\n",
    "            i1 = i1 + 1\n",
    "        else :\n",
    "            lst.append(l2[i2])\n",
    "            i2 = i2 + 1\n",
    "    if i1 == n1:\n",
    "        # Compléter\n",
    "    else :\n",
    "        # Compléter \n",
    "    return lst\n",
    "\n",
    "fusion([2, 3, 5, 8], [1, 4])   "
   ]
  },
  {
   "cell_type": "markdown",
   "metadata": {},
   "source": [
    "<details>\n",
    "<summary style=\"border:1pt solid slateblue; border-radius:5pt; width:15%; color:slateblue; padding:3px; background-color: lightcyan\"> Solution </summary>  \n",
    "    \n",
    "<div style=\"border:1pt solid slateblue; border-radius:5pt; color:slateblue; padding:3px; background-color: lightcyan\"> \n",
    "\n",
    "    \n",
    "```python    \n",
    "def fusion(l1, l2):\n",
    "    \"\"\"\n",
    "    Précondition : l1 et l2 sont deux listes triées\n",
    "    Postcondition : la fonction renvoie une liste triée constituée de la fusion \n",
    "    de l1 et l2\n",
    "    Exemple :\n",
    "    fusion([2, 3, 5, 8],[1, 4]) renvoie [1, 2, 3, 5, 8]\n",
    "    \"\"\"\n",
    "    \n",
    "    n1 = len(l1)\n",
    "    n2 = len(l2)\n",
    "    lst = [] # initialisation de la fusion de l1 et l2 \n",
    "    i1 = 0 # indice qui sert à parcourir l1\n",
    "    i2 = 0 # indice qui sert à parcourir l2\n",
    "    while i1 < n1 and i2 < n2 :\n",
    "        if l1[i1] < l2[i2]:\n",
    "            lst.append(l1[i1])\n",
    "            i1 = i1 + 1\n",
    "        else :\n",
    "            lst.append(l2[i2])\n",
    "            i2 = i2 + 1\n",
    "    if i1 == n1:\n",
    "        return lst + l2[i2:]\n",
    "    if i2 == n2:\n",
    "        return lst + l1[i1:]\n",
    "```\n",
    "                           \n",
    "</div>\n",
    "</details>"
   ]
  },
  {
   "cell_type": "markdown",
   "metadata": {},
   "source": [
    "😥 Le problème, c'est que les \"slices\" ne sont pas vraiment au programme de NSI, et que leur utilisation n'est pas toujours efficace. Essayons une version qui n'utilise pas de \"slices\"."
   ]
  },
  {
   "cell_type": "markdown",
   "metadata": {},
   "source": [
    "### 💻 A vous de jouer 2 :\n",
    "Compléter le script suivant :"
   ]
  },
  {
   "cell_type": "code",
   "execution_count": null,
   "metadata": {},
   "outputs": [],
   "source": [
    "def fusion2(l1, l2):\n",
    "    \"\"\"\n",
    "    Précondition : l1 et l2 sont deux listes triées\n",
    "    Postcondition : la fonction renvoie une liste triée constituée de la fusion \n",
    "    de l1 et l2\n",
    "    Exemple :\n",
    "    fusion([2, 3, 5, 8], [1, 4]) renvoie [1, 2, 3, 5, 8]\n",
    "    \"\"\"\n",
    "    n1 = len(l1)\n",
    "    n2 = len(l2)\n",
    "    lst = [] # initialisation de la fusion de l1 et l2 \n",
    "    i1 = 0 # indice qui sert à parcourir l1\n",
    "    i2 = 0 # indice qui sert à parcourir l2\n",
    "    while i1 < n1 and i2 < n2 :\n",
    "        if l1[i1] < l2[i2]:\n",
    "            lst.append(l1[i1])\n",
    "            i1 = i1 + 1\n",
    "        else :\n",
    "            lst.append(l2[i2])\n",
    "            i2 = i2 + 1\n",
    "    if i1 == n1:\n",
    "        for i in range(...):\n",
    "            lst.append(l2[i])\n",
    "        return lst \n",
    "    if i2 == n2:\n",
    "        for i in range(...):\n",
    "            lst.append(l1[i])\n",
    "        return lst \n",
    "\n",
    "fusion2([2, 3, 5, 8], [1, 4])   "
   ]
  },
  {
   "cell_type": "markdown",
   "metadata": {},
   "source": [
    "<details>\n",
    "<summary style=\"border:1pt solid slateblue; border-radius:5pt; width:15%; color:slateblue; padding:3px; background-color: lightcyan\"> Solution </summary>  \n",
    "    \n",
    "<div style=\"border:1pt solid slateblue; border-radius:5pt; color:slateblue; padding:3px; background-color: lightcyan\"> \n",
    "\n",
    "    \n",
    "```python    \n",
    "def fusion2(l1,l2):\n",
    "    \"\"\"\n",
    "    Précondition : l1 et l2 sont deux listes triées\n",
    "    Postcondition : la fonction renvoie une liste triée constituée de la fusion \n",
    "    de l1 et l2\n",
    "    Exemple :\n",
    "    fusion([2, 3, 5, 8], [1, 4]) renvoie [1, 2, 3, 5, 8]\n",
    "    \"\"\"\n",
    "    n1 = len(l1)\n",
    "    n2 = len(l2)\n",
    "    lst = [] # initialisation de la fusion de l1 et l2 \n",
    "    i1 = 0 # indice qui sert à parcourir l1\n",
    "    i2 = 0 # indice qui sert à parcourir l2\n",
    "    while i1 < n1 and i2 < n2 :\n",
    "        if l1[i1] < l2[i2]:\n",
    "            lst.append(l1[i1])\n",
    "            i1 = i1 + 1\n",
    "        else :\n",
    "            lst.append(l2[i2])\n",
    "            i2 = i2 + 1\n",
    "    if i1 == n1:\n",
    "        for i in range(i2, n2):\n",
    "            lst.append(l2[i])\n",
    "        return lst \n",
    "    if i2 == n2:\n",
    "        for i in range(i1, n1):\n",
    "            lst.append(l1[i])\n",
    "        return lst \n",
    "```\n",
    "                           \n",
    "</div>\n",
    "</details>"
   ]
  },
  {
   "cell_type": "markdown",
   "metadata": {},
   "source": [
    "Mireille COILHAC  \n",
    "<a rel=\"license\" href=\"http://creativecommons.org/licenses/by-nc-sa/4.0/\"><img alt=\"Creative Commons License\" style=\"border-width:0\" src=\"https://i.creativecommons.org/l/by-nc-sa/4.0/88x31.png\" /></a><br />This work is licensed under a <a rel=\"license\" href=\"http://creativecommons.org/licenses/by-nc-sa/4.0/\">Creative Commons Attribution-NonCommercial-ShareAlike 4.0 International License</a>."
   ]
  }
 ],
 "metadata": {
  "kernelspec": {
   "display_name": "Python 3",
   "language": "python",
   "name": "python3"
  },
  "language_info": {
   "codemirror_mode": {
    "name": "ipython",
    "version": 3
   },
   "file_extension": ".py",
   "mimetype": "text/x-python",
   "name": "python",
   "nbconvert_exporter": "python",
   "pygments_lexer": "ipython3",
   "version": "3.7.6"
  }
 },
 "nbformat": 4,
 "nbformat_minor": 4
}
