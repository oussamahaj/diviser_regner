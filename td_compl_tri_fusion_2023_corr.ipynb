{
 "cells": [
  {
   "cell_type": "markdown",
   "metadata": {
    "id": "Igt9-hR-l1pM"
   },
   "source": [
    "<p style=\"padding:5px;\n",
    "          background-color:#afa;\n",
    "          border:1px solid #bbffbb;\n",
    "          border-radius:20px;\n",
    "          font-weight:bold;\n",
    "          font-size:2em;\n",
    "          padding:15px;\n",
    "          text-align:center;\">\n",
    "    ➗ Diviser Pour Régner : Complexité du tri fusion 🤴\n",
    "\n",
    "</p><br> "
   ]
  },
  {
   "cell_type": "markdown",
   "metadata": {},
   "source": [
    "## I. Fonction tri_fusion"
   ]
  },
  {
   "cell_type": "markdown",
   "metadata": {},
   "source": [
    "Nous redonnons ici : "
   ]
  },
  {
   "cell_type": "code",
   "execution_count": null,
   "metadata": {
    "colab": {
     "base_uri": "https://localhost:8080/"
    },
    "id": "xFz_pFD_hMsg",
    "outputId": "6eeab239-5cc1-44b0-ddc9-5f53441fb6e3"
   },
   "outputs": [],
   "source": [
    "def fusion(l1, l2):\n",
    "    \"\"\"\n",
    "    Précondition : l1 et l2 sont deux listes triées\n",
    "    Postcondition : la fonction renvoie une liste triée constituée de la fusion \n",
    "    de l1 et l2\n",
    "    Exemple :\n",
    "    fusion([2, 3, 5, 8],[1, 4]) renvoie [1, 2, 3, 5, 8]\n",
    "    \"\"\"\n",
    "    n1 = len(l1)\n",
    "    n2 = len(l2)\n",
    "    lst = [] # initialisation de la fusion de l1 et l2 \n",
    "    i1 = 0 # indice qui sert à parcourir l1\n",
    "    i2 = 0 # indice qui sert à parcourir l2\n",
    "    while i1 < n1 and i2 < n2 :\n",
    "        if l1[i1] < l2[i2]:\n",
    "            lst.append(l1[i1])\n",
    "            i1 = i1 + 1\n",
    "        else :\n",
    "            lst.append(l2[i2])\n",
    "            i2 = i2 + 1\n",
    "    if i1 == n1:\n",
    "        return lst + l2[i2:]\n",
    "    if i2 == n2:\n",
    "        return lst + l1[i1:]\n",
    "\n",
    "fusion([2, 3, 5, 8],[1, 4])   "
   ]
  },
  {
   "cell_type": "code",
   "execution_count": null,
   "metadata": {
    "colab": {
     "base_uri": "https://localhost:8080/"
    },
    "id": "hNciXVJPuPXP",
    "outputId": "799db2d5-65fb-42ef-b2f9-4fb4d25760e4"
   },
   "outputs": [],
   "source": [
    "fusion([1, 4],[2, 3, 5, 8]) "
   ]
  },
  {
   "cell_type": "code",
   "execution_count": null,
   "metadata": {
    "colab": {
     "base_uri": "https://localhost:8080/"
    },
    "id": "wIHKUPYglluz",
    "outputId": "893617da-0f5b-45e3-b69b-7fc5d875dd96"
   },
   "outputs": [],
   "source": [
    "def tri_fusion(lst):\n",
    "    \"\"\"\n",
    "    Précondition : lst est une liste\n",
    "    Postcondition : la fonction renvoie une liste qui est la liste triée\n",
    "\n",
    "    \"\"\"\n",
    "    n = len(lst)\n",
    "    if n <= 1:\n",
    "        return lst\n",
    "    else :\n",
    "        m = n // 2\n",
    "        return fusion(tri_fusion(lst[:m]), tri_fusion(lst[m:])) \n",
    "\n",
    "tab = [4, 3, 8, 2, 7, 1, 5]\n",
    "\n",
    "print(tri_fusion(tab))\n",
    "print(tab)\n",
    "assert tri_fusion([1, 2, 3, 4]) == [1, 2, 3, 4]\n",
    "assert tri_fusion([4, 3, 2, 1]) == [1, 2, 3, 4]\n",
    "assert tri_fusion([4, 2, 3, 1]) == [1, 2, 3, 4]"
   ]
  },
  {
   "cell_type": "markdown",
   "metadata": {
    "id": "Tsq2HIvuC4d0"
   },
   "source": [
    "# II. Comparaison des complexités"
   ]
  },
  {
   "cell_type": "markdown",
   "metadata": {
    "id": "xuZ64h1tDPdo"
   },
   "source": [
    "Nous avons vu dans la vidéo que le tri fusion d'une liste de taille $n$ avait une complexité en $O(n \\text{log}_2(n))$.   \n",
    "En première nous avons vu que le tri par sélection était de complexité en $O(n^2)$"
   ]
  },
  {
   "cell_type": "markdown",
   "metadata": {
    "id": "v3p_OQE1MZQw"
   },
   "source": [
    "## 1. Comparaison avec le tri par sélection"
   ]
  },
  {
   "cell_type": "markdown",
   "metadata": {
    "id": "BtCRmQWrMyPj"
   },
   "source": [
    "### 💻 A vous de jouer 1 :"
   ]
  },
  {
   "cell_type": "code",
   "execution_count": null,
   "metadata": {
    "colab": {
     "base_uri": "https://localhost:8080/",
     "height": 265
    },
    "id": "ca66Z_wIEajq",
    "outputId": "32b1fbe6-a709-4574-c651-a33e98a21170"
   },
   "outputs": [],
   "source": [
    "import timeit\n",
    "import matplotlib.pyplot as plt\n",
    "from random import shuffle\n",
    "\n",
    "def tri_selection(liste):\n",
    "    \"\"\"\n",
    "    liste est de type liste\n",
    "    La fonction renvoie la liste triee par ordre croissant.\n",
    "    Elle utilise l'algorithme de tri par selection. C'est un tri \"en place\"\n",
    "    \"\"\"\n",
    "    for i in range(len(liste) - 1):\n",
    "        indice_min = i\n",
    "        for j in range(i + 1, len(liste)): # recherche de l'indice du minimum\n",
    "                                        # dans le reste de la liste(à droite)\n",
    "            if liste[j] < liste[indice_min]:\n",
    "                indice_min = j\n",
    "        if indice_min != i: # echange s'il y a une plus petite valeur dans\n",
    "                          # la partie droite de la liste\n",
    "            liste[i], liste[indice_min] = liste[indice_min], liste[i]\n",
    "\n",
    "\n",
    "\n",
    "# différentes tailles de listes\n",
    "abscisse =  [10, 100, 400, 600]\n",
    "\n",
    "ordonnee_selection = [] # liste des temps par tri sélection\n",
    "ordonnee_fusion = [] # liste des temps par tri fusion avec slices\n",
    "\n",
    "# Création des listes non triées de tailles n\n",
    "for n in abscisse:\n",
    "    l = [i for i in range(n)] # création de la liste de taille n : [0... n-1]\n",
    "    shuffle(l) # mélange de cette liste\n",
    "\n",
    "    # Création des listes d'ordonnées correspondantes pour chaque graphique\n",
    "    # Pour  le tri par sélection :\n",
    "    # Attention le tri sélection est un tri \"en place\" qui trie la liste l. \n",
    "    # Il faut donc pour chaque mesure prendre une copie de la liste l initiale, avec l[:]\n",
    "    temps=timeit.timeit(\"tri_selection(l[:])\", number=100, globals=globals())\n",
    "    ordonnee_selection.append(temps)\n",
    "\n",
    "    # Par tri fusion avec slices\n",
    "    temps=timeit.timeit(\"tri_fusion(l)\", number=100, globals=globals())\n",
    "    ordonnee_fusion.append(temps)\n",
    "\n",
    "\n",
    "# Graphique pour le tri sélection en rouge\n",
    "plt.plot(abscisse, ordonnee_selection, \"ro-\") # en rouge\n",
    "\n",
    "# Graphique pour le tri fusion avec slices en bleu\n",
    "plt.plot(abscisse, ordonnee_fusion, \"bo-\") # en bleu\n",
    "\n",
    "\n",
    "\n",
    "plt.show()\n",
    "plt.close()"
   ]
  },
  {
   "cell_type": "markdown",
   "metadata": {
    "id": "AJnmubxWMlrv"
   },
   "source": [
    "### 2. Comparaison avec le tri par insertion"
   ]
  },
  {
   "cell_type": "markdown",
   "metadata": {
    "id": "BPHxtuPMM1vS"
   },
   "source": [
    "### 💻 A vous de jouer 2 :  \n",
    "Procéder de même pour comparer le tri fusion au tri par insertion."
   ]
  },
  {
   "cell_type": "code",
   "execution_count": null,
   "metadata": {
    "colab": {
     "base_uri": "https://localhost:8080/",
     "height": 265
    },
    "id": "2FmBydSuNO_b",
    "outputId": "a26252cc-33d4-4994-899d-8742d1127d54"
   },
   "outputs": [],
   "source": [
    "import timeit\n",
    "import matplotlib.pyplot as plt\n",
    "from random import shuffle\n",
    "\n",
    "def tri_insertion(tab:list)->list:\n",
    "    \"\"\"\n",
    "    tab est de type liste\n",
    "    La fonction renvoie la liste triée par ordre croissant.\n",
    "    Elle utilise l'algorithme de tri par insertion. C'est un tri en place.\n",
    "    \"\"\"\n",
    "    for indice in range(len(tab)):\n",
    "        element = tab[indice]\n",
    "        i = indice\n",
    "        while i > 0 and tab[i - 1] > element:\n",
    "            tab[i] = tab[i - 1]\n",
    "            i = i - 1\n",
    "        tab[i] = element\n",
    "\n",
    "\n",
    "\n",
    "# différentes tailles de listes\n",
    "abscisse =  [10, 100, 400, 600]\n",
    "\n",
    "ordonnee_insertion = [] # liste des temps par tri insertion\n",
    "ordonnee_fusion = [] # liste des temps par tri fusion\n",
    "\n",
    "# Création des listes non triées de tailles n\n",
    "for n in abscisse:\n",
    "    l = [i for i in range(n)] # création de la liste de taille n : [0... n-1]\n",
    "    shuffle(l) # mélange de cette liste\n",
    "\n",
    "    # Création des listes d'ordonnées correspondantes pour chaque graphique\n",
    "    # Pour  le tri par insertion :\n",
    "    # Attention le tri par insertion est un tri \"en place\" qui trie la liste l. \n",
    "    # Il faut donc pour chaque mesure prendre une copie de la liste l initiale, \n",
    "    # avec l[:]\n",
    "    temps=timeit.timeit(\"tri_insertion(l[:])\", number=100, globals=globals())\n",
    "    ordonnee_insertion.append(temps)\n",
    "\n",
    "    # Par tri fusion avec slices\n",
    "    temps=timeit.timeit(\"tri_fusion(l)\", number=100, globals=globals())\n",
    "    ordonnee_fusion.append(temps)\n",
    "\n",
    "\n",
    "\n",
    "# Graphique pour le tri insertion en rouge\n",
    "plt.plot(abscisse, ordonnee_insertion, \"ro-\") # en rouge\n",
    "\n",
    "# Graphique pour le tri fusion en bleu\n",
    "plt.plot(abscisse, ordonnee_fusion, \"bo-\") # en bleu\n",
    "\n",
    "plt.show()\n",
    "plt.close()"
   ]
  },
  {
   "cell_type": "markdown",
   "metadata": {
    "id": "tIcjKr6Nmu2_"
   },
   "source": [
    "\n",
    "\n",
    "<p style=\"padding:5px;\n",
    "          background-color:#afa;\n",
    "          border:1px solid #bbffbb;\n",
    "          border-radius:20px;\n",
    "          font-weight:bold;\n",
    "          font-size:1.2em;\n",
    "          padding:15px;\n",
    "          text-align:center;\">\n",
    "    <b>Conclusion :</b>   <br>\n",
    "😊 On observe bien cette différence d'efficacité.   <br>\n",
    "    Gagnant : le tri fusion\n",
    "\n",
    "</p><br> "
   ]
  },
  {
   "cell_type": "markdown",
   "metadata": {
    "id": "Wcn9EB6RLdrT"
   },
   "source": [
    "\n",
    "Mireille COILHAC  \n",
    "<a rel=\"license\" href=\"http://creativecommons.org/licenses/by-nc-sa/4.0/\"><img alt=\"Creative Commons License\" style=\"border-width:0\" src=\"https://i.creativecommons.org/l/by-nc-sa/4.0/88x31.png\" /></a><br />This work is licensed under a <a rel=\"license\" href=\"http://creativecommons.org/licenses/by-nc-sa/4.0/\">Creative Commons Attribution-NonCommercial-ShareAlike 4.0 International License</a>.\n",
    "\n",
    "\n"
   ]
  }
 ],
 "metadata": {
  "colab": {
   "collapsed_sections": [],
   "name": "tri_fusion_2022_corrige.ipynb",
   "provenance": []
  },
  "kernelspec": {
   "display_name": "Python 3",
   "language": "python",
   "name": "python3"
  },
  "language_info": {
   "codemirror_mode": {
    "name": "ipython",
    "version": 3
   },
   "file_extension": ".py",
   "mimetype": "text/x-python",
   "name": "python",
   "nbconvert_exporter": "python",
   "pygments_lexer": "ipython3",
   "version": "3.7.6"
  }
 },
 "nbformat": 4,
 "nbformat_minor": 1
}
